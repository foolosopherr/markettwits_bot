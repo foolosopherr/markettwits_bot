{
 "cells": [
  {
   "cell_type": "code",
   "execution_count": 2,
   "metadata": {},
   "outputs": [],
   "source": [
    "import pandas as pd"
   ]
  },
  {
   "cell_type": "markdown",
   "metadata": {},
   "source": [
    "# nasdaq_screener_1703723247156"
   ]
  },
  {
   "cell_type": "code",
   "execution_count": 4,
   "metadata": {},
   "outputs": [
    {
     "data": {
      "text/plain": [
       "(7305, 11)"
      ]
     },
     "execution_count": 4,
     "metadata": {},
     "output_type": "execute_result"
    }
   ],
   "source": [
    "df = pd.read_csv('../data/nasdaq_screener_1703723247156.csv')\n",
    "df.shape"
   ]
  },
  {
   "cell_type": "code",
   "execution_count": 5,
   "metadata": {},
   "outputs": [
    {
     "data": {
      "text/plain": [
       "(7304, 5)"
      ]
     },
     "execution_count": 5,
     "metadata": {},
     "output_type": "execute_result"
    }
   ],
   "source": [
    "df = df[['Symbol', 'Name', 'Country', 'Sector', 'Industry']].dropna(subset=['Symbol'])\n",
    "df.shape"
   ]
  },
  {
   "cell_type": "code",
   "execution_count": 6,
   "metadata": {},
   "outputs": [],
   "source": [
    "df['Symbol'] = df['Symbol'].apply(lambda x: str(x).strip())\n",
    "df['Symbol'] = df['Symbol'].apply(lambda x: x[:-2] if '^' in x else x)"
   ]
  },
  {
   "cell_type": "code",
   "execution_count": 7,
   "metadata": {},
   "outputs": [
    {
     "data": {
      "text/html": [
       "<div>\n",
       "<style scoped>\n",
       "    .dataframe tbody tr th:only-of-type {\n",
       "        vertical-align: middle;\n",
       "    }\n",
       "\n",
       "    .dataframe tbody tr th {\n",
       "        vertical-align: top;\n",
       "    }\n",
       "\n",
       "    .dataframe thead th {\n",
       "        text-align: right;\n",
       "    }\n",
       "</style>\n",
       "<table border=\"1\" class=\"dataframe\">\n",
       "  <thead>\n",
       "    <tr style=\"text-align: right;\">\n",
       "      <th></th>\n",
       "      <th>Symbol</th>\n",
       "      <th>Name</th>\n",
       "      <th>Country</th>\n",
       "      <th>Sector</th>\n",
       "      <th>Industry</th>\n",
       "    </tr>\n",
       "  </thead>\n",
       "  <tbody>\n",
       "    <tr>\n",
       "      <th>4955</th>\n",
       "      <td>ORGNW</td>\n",
       "      <td>Origin Materials Inc. Warrants</td>\n",
       "      <td>United States</td>\n",
       "      <td>Industrials</td>\n",
       "      <td>Major Chemicals</td>\n",
       "    </tr>\n",
       "    <tr>\n",
       "      <th>3930</th>\n",
       "      <td>LLYVA</td>\n",
       "      <td>Liberty Media Corporation Series A Liberty Liv...</td>\n",
       "      <td>United States</td>\n",
       "      <td>Industrials</td>\n",
       "      <td>Broadcasting</td>\n",
       "    </tr>\n",
       "    <tr>\n",
       "      <th>3825</th>\n",
       "      <td>LBRDA</td>\n",
       "      <td>Liberty Broadband Corporation Class A Common S...</td>\n",
       "      <td>United States</td>\n",
       "      <td>Telecommunications</td>\n",
       "      <td>Cable &amp; Other Pay Television Services</td>\n",
       "    </tr>\n",
       "    <tr>\n",
       "      <th>3826</th>\n",
       "      <td>LBRDK</td>\n",
       "      <td>Liberty Broadband Corporation Class C Common S...</td>\n",
       "      <td>United States</td>\n",
       "      <td>Telecommunications</td>\n",
       "      <td>Cable &amp; Other Pay Television Services</td>\n",
       "    </tr>\n",
       "    <tr>\n",
       "      <th>3827</th>\n",
       "      <td>LBRDP</td>\n",
       "      <td>Liberty Broadband Corporation Series A Cumulat...</td>\n",
       "      <td>United States</td>\n",
       "      <td>Telecommunications</td>\n",
       "      <td>Cable &amp; Other Pay Television Services</td>\n",
       "    </tr>\n",
       "    <tr>\n",
       "      <th>...</th>\n",
       "      <td>...</td>\n",
       "      <td>...</td>\n",
       "      <td>...</td>\n",
       "      <td>...</td>\n",
       "      <td>...</td>\n",
       "    </tr>\n",
       "    <tr>\n",
       "      <th>7004</th>\n",
       "      <td>W</td>\n",
       "      <td>Wayfair Inc. Class A Common Stock</td>\n",
       "      <td>United States</td>\n",
       "      <td>Consumer Discretionary</td>\n",
       "      <td>Catalog/Specialty Distribution</td>\n",
       "    </tr>\n",
       "    <tr>\n",
       "      <th>3564</th>\n",
       "      <td>J</td>\n",
       "      <td>Jacobs Solutions Inc. Common Stock</td>\n",
       "      <td>United States</td>\n",
       "      <td>Industrials</td>\n",
       "      <td>Military/Government/Technical</td>\n",
       "    </tr>\n",
       "    <tr>\n",
       "      <th>3795</th>\n",
       "      <td>L</td>\n",
       "      <td>Loews Corporation Common Stock</td>\n",
       "      <td>United States</td>\n",
       "      <td>Finance</td>\n",
       "      <td>Property-Casualty Insurers</td>\n",
       "    </tr>\n",
       "    <tr>\n",
       "      <th>7257</th>\n",
       "      <td>Z</td>\n",
       "      <td>Zillow Group Inc. Class C Capital Stock</td>\n",
       "      <td>United States</td>\n",
       "      <td>Consumer Discretionary</td>\n",
       "      <td>Business Services</td>\n",
       "    </tr>\n",
       "    <tr>\n",
       "      <th>0</th>\n",
       "      <td>A</td>\n",
       "      <td>Agilent Technologies Inc. Common Stock</td>\n",
       "      <td>United States</td>\n",
       "      <td>Industrials</td>\n",
       "      <td>Biotechnology: Laboratory Analytical Instruments</td>\n",
       "    </tr>\n",
       "  </tbody>\n",
       "</table>\n",
       "<p>7304 rows × 5 columns</p>\n",
       "</div>"
      ],
      "text/plain": [
       "     Symbol                                               Name        Country  \\\n",
       "4955  ORGNW                     Origin Materials Inc. Warrants  United States   \n",
       "3930  LLYVA  Liberty Media Corporation Series A Liberty Liv...  United States   \n",
       "3825  LBRDA  Liberty Broadband Corporation Class A Common S...  United States   \n",
       "3826  LBRDK  Liberty Broadband Corporation Class C Common S...  United States   \n",
       "3827  LBRDP  Liberty Broadband Corporation Series A Cumulat...  United States   \n",
       "...     ...                                                ...            ...   \n",
       "7004      W                  Wayfair Inc. Class A Common Stock  United States   \n",
       "3564      J                 Jacobs Solutions Inc. Common Stock  United States   \n",
       "3795      L                     Loews Corporation Common Stock  United States   \n",
       "7257      Z            Zillow Group Inc. Class C Capital Stock  United States   \n",
       "0         A             Agilent Technologies Inc. Common Stock  United States   \n",
       "\n",
       "                      Sector                                          Industry  \n",
       "4955             Industrials                                   Major Chemicals  \n",
       "3930             Industrials                                      Broadcasting  \n",
       "3825      Telecommunications             Cable & Other Pay Television Services  \n",
       "3826      Telecommunications             Cable & Other Pay Television Services  \n",
       "3827      Telecommunications             Cable & Other Pay Television Services  \n",
       "...                      ...                                               ...  \n",
       "7004  Consumer Discretionary                    Catalog/Specialty Distribution  \n",
       "3564             Industrials                     Military/Government/Technical  \n",
       "3795                 Finance                        Property-Casualty Insurers  \n",
       "7257  Consumer Discretionary                                 Business Services  \n",
       "0                Industrials  Biotechnology: Laboratory Analytical Instruments  \n",
       "\n",
       "[7304 rows x 5 columns]"
      ]
     },
     "execution_count": 7,
     "metadata": {},
     "output_type": "execute_result"
    }
   ],
   "source": [
    "df"
   ]
  },
  {
   "cell_type": "code",
   "execution_count": 8,
   "metadata": {},
   "outputs": [],
   "source": [
    "df.to_csv('tickers.csv', index=False)"
   ]
  },
  {
   "cell_type": "markdown",
   "metadata": {},
   "source": [
    "# ListingSecurityList"
   ]
  },
  {
   "cell_type": "code",
   "execution_count": 25,
   "metadata": {},
   "outputs": [
    {
     "data": {
      "text/plain": [
       "(3859, 2)"
      ]
     },
     "execution_count": 25,
     "metadata": {},
     "output_type": "execute_result"
    }
   ],
   "source": [
    "df = pd.read_csv('../data/ListingSecurityList.csv', encoding='cp1251')\n",
    "df = df[['EMITENT_FULL_NAME', 'TRADE_CODE']]\n",
    "df.columns = ['Name', 'Symbol']\n",
    "df.shape"
   ]
  },
  {
   "cell_type": "code",
   "execution_count": 28,
   "metadata": {},
   "outputs": [
    {
     "data": {
      "text/plain": [
       "(3541, 2)"
      ]
     },
     "execution_count": 28,
     "metadata": {},
     "output_type": "execute_result"
    }
   ],
   "source": [
    "df = df.dropna(subset=['Symbol']).drop_duplicates(subset=['Symbol'], keep='first')\n",
    "df"
   ]
  },
  {
   "cell_type": "code",
   "execution_count": null,
   "metadata": {},
   "outputs": [],
   "source": [
    "df.to_csv('../data/moex_tickers.csv', index=False)"
   ]
  }
 ],
 "metadata": {
  "kernelspec": {
   "display_name": "Python 3",
   "language": "python",
   "name": "python3"
  },
  "language_info": {
   "codemirror_mode": {
    "name": "ipython",
    "version": 3
   },
   "file_extension": ".py",
   "mimetype": "text/x-python",
   "name": "python",
   "nbconvert_exporter": "python",
   "pygments_lexer": "ipython3",
   "version": "3.8.13"
  }
 },
 "nbformat": 4,
 "nbformat_minor": 2
}
